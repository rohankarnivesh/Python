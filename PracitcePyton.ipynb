{
  "nbformat": 4,
  "nbformat_minor": 0,
  "metadata": {
    "colab": {
      "provenance": [],
      "authorship_tag": "ABX9TyMADqbzpeV9p34NBYEGicVe",
      "include_colab_link": true
    },
    "kernelspec": {
      "name": "python3",
      "display_name": "Python 3"
    },
    "language_info": {
      "name": "python"
    }
  },
  "cells": [
    {
      "cell_type": "markdown",
      "metadata": {
        "id": "view-in-github",
        "colab_type": "text"
      },
      "source": [
        "<a href=\"https://colab.research.google.com/github/rohankarnivesh/Python/blob/main/PracitcePyton.ipynb\" target=\"_parent\"><img src=\"https://colab.research.google.com/assets/colab-badge.svg\" alt=\"Open In Colab\"/></a>"
      ]
    },
    {
      "cell_type": "code",
      "execution_count": null,
      "metadata": {
        "colab": {
          "base_uri": "https://localhost:8080/"
        },
        "id": "cVZ9z7VAycqx",
        "outputId": "5baada0c-1efa-488b-81b5-fcf3319e2601"
      },
      "outputs": [
        {
          "output_type": "stream",
          "name": "stdout",
          "text": [
            "Hello\n"
          ]
        }
      ],
      "source": [
        "print('Hello')"
      ]
    },
    {
      "cell_type": "code",
      "source": [
        "nums = [1, 2, 7, 3,4 ,1]\n",
        "seen = set()\n",
        "for num in nums:\n",
        "  if num in seen:\n",
        "    print(True)\n",
        "    break\n",
        "  seen.add(num)"
      ],
      "metadata": {
        "colab": {
          "base_uri": "https://localhost:8080/"
        },
        "id": "kkAnQfvvzDLh",
        "outputId": "3c7bb5ba-8b1c-4bd6-a6eb-26582c06ac01"
      },
      "execution_count": null,
      "outputs": [
        {
          "output_type": "stream",
          "name": "stdout",
          "text": [
            "True\n"
          ]
        }
      ]
    },
    {
      "cell_type": "code",
      "source": [
        "nums = [1, 2, 7, 11]\n",
        "target = 9\n",
        "\n",
        "solution = {}\n",
        "\n",
        "for i, num in enumerate(nums):\n",
        "  compliment = target - num\n",
        "  if compliment in solution:\n",
        "    print(solution[compliment], i)\n",
        "    break\n",
        "  solution[num] = i"
      ],
      "metadata": {
        "colab": {
          "base_uri": "https://localhost:8080/"
        },
        "id": "Yq7bO-0Tz8op",
        "outputId": "10605a03-e1fe-4a05-ce32-ab78ea716e80"
      },
      "execution_count": null,
      "outputs": [
        {
          "output_type": "stream",
          "name": "stdout",
          "text": [
            "1 2\n"
          ]
        }
      ]
    }
  ]
}