{
  "nbformat": 4,
  "nbformat_minor": 0,
  "metadata": {
    "colab": {
      "provenance": [],
      "include_colab_link": true
    },
    "kernelspec": {
      "name": "python3",
      "display_name": "Python 3"
    },
    "language_info": {
      "name": "python"
    }
  },
  "cells": [
    {
      "cell_type": "markdown",
      "metadata": {
        "id": "view-in-github",
        "colab_type": "text"
      },
      "source": [
        "<a href=\"https://colab.research.google.com/github/rohankarnivesh/Python/blob/main/PracitcePyton.ipynb\" target=\"_parent\"><img src=\"https://colab.research.google.com/assets/colab-badge.svg\" alt=\"Open In Colab\"/></a>"
      ]
    },
    {
      "cell_type": "code",
      "execution_count": null,
      "metadata": {
        "colab": {
          "base_uri": "https://localhost:8080/"
        },
        "id": "cVZ9z7VAycqx",
        "outputId": "5baada0c-1efa-488b-81b5-fcf3319e2601"
      },
      "outputs": [
        {
          "output_type": "stream",
          "name": "stdout",
          "text": [
            "Hello\n"
          ]
        }
      ],
      "source": [
        "print('Hello')"
      ]
    },
    {
      "cell_type": "markdown",
      "source": [
        "Contain Duplicates"
      ],
      "metadata": {
        "id": "Rf_fw-owF1_p"
      }
    },
    {
      "cell_type": "code",
      "source": [
        "nums = [1, 2, 7, 3,4 ,1]\n",
        "seen = set()\n",
        "for num in nums:\n",
        "  if num in seen:\n",
        "    print(True)\n",
        "    break\n",
        "  seen.add(num)"
      ],
      "metadata": {
        "colab": {
          "base_uri": "https://localhost:8080/"
        },
        "id": "kkAnQfvvzDLh",
        "outputId": "3c7bb5ba-8b1c-4bd6-a6eb-26582c06ac01"
      },
      "execution_count": null,
      "outputs": [
        {
          "output_type": "stream",
          "name": "stdout",
          "text": [
            "True\n"
          ]
        }
      ]
    },
    {
      "cell_type": "markdown",
      "source": [
        "\n",
        "\n",
        "```\n",
        "# This is formatted as code\n",
        "seen = set(): Empty set – like a “done” list for dispatch tasks, no repeats.\n",
        "for num in nums: Loop each number – “check every ID.”\n",
        "if num in seen: “Seen this before?” Yes → duplicate, True.\n",
        "seen.add(num): “New number, log it.”\n",
        "return False: “No repeats, all clear.”\n",
        "```\n",
        "\n"
      ],
      "metadata": {
        "id": "nAh10UlKDtjP"
      }
    },
    {
      "cell_type": "markdown",
      "source": [],
      "metadata": {
        "id": "RTvP8uGzgEaJ"
      }
    },
    {
      "cell_type": "code",
      "source": [
        "nums = [1, 2, 7, 11]\n",
        "target = 9\n",
        "\n",
        "solution = {}\n",
        "\n",
        "for i, num in enumerate(nums):\n",
        "  compliment = target - num\n",
        "  if compliment in solution:\n",
        "    print(solution[compliment], i)\n",
        "    break\n",
        "  solution[num] = i"
      ],
      "metadata": {
        "colab": {
          "base_uri": "https://localhost:8080/"
        },
        "id": "Yq7bO-0Tz8op",
        "outputId": "10605a03-e1fe-4a05-ce32-ab78ea716e80"
      },
      "execution_count": null,
      "outputs": [
        {
          "output_type": "stream",
          "name": "stdout",
          "text": [
            "1 2\n"
          ]
        }
      ]
    },
    {
      "cell_type": "code",
      "source": [],
      "metadata": {
        "id": "t2pxpRREoLOW"
      },
      "execution_count": null,
      "outputs": []
    },
    {
      "cell_type": "markdown",
      "source": [
        "Query the two cities in STATION with the shortest and longest CITY names, as well as their respective lengths (i.e.: number of characters in the name). If there is more than one smallest or largest city, choose the one that comes first when ordered alphabetically."
      ],
      "metadata": {
        "id": "dtzF5FE4gUzw"
      }
    },
    {
      "cell_type": "markdown",
      "source": [
        "```\n",
        "(\n",
        "    SELECT CITY, LENGTH(CITY) AS NAME_LEN\n",
        "    FROM STATION\n",
        "    ORDER BY NAME_LEN ASC, CITY ASC\n",
        "    LIMIT 1\n",
        ")\n",
        "    UNION\n",
        "(\n",
        "    SELECT CITY, LENGTH(CITY) AS NAME_LEN\n",
        "    FROM STATION\n",
        "    ORDER BY NAME_LEN DESC, CITY ASC\n",
        "    LIMIT 1\n",
        ");\n",
        "# This is formatted as code\n",
        "\n",
        "```\n",
        "\n"
      ],
      "metadata": {
        "id": "n07AQJUZgF0E"
      }
    },
    {
      "cell_type": "code",
      "source": [
        "def cafe_menu():\n",
        "    menu={}\n",
        "\n",
        "    while True:\n",
        "        category = input(\"\\nEnter your fav food (or done to end): \")\n",
        "        if category.lower() == \"done\":\n",
        "            break\n",
        "        items = {}\n",
        "        while True:\n",
        "            flavors = input(\"Enter your flavors of food (or done to end): \")\n",
        "            if flavors.lower() == \"done\":\n",
        "                break\n",
        "\n",
        "            prices = input(\"Enter the prices: \")\n",
        "            items[flavors] = prices\n",
        "\n",
        "        menu[category] = items\n",
        "    return menu\n",
        "\n",
        "cafe = cafe_menu()\n",
        "\n",
        "with open(\"cafe_menu.txt\", \"w\") as file:\n",
        "    file.write(\"Cafe Menu:\\n\")\n",
        "    print(\"Cafe Menu:\\n\")\n",
        "    for category, flavors in cafe.items():\n",
        "        file.write(f\"{category}:\")\n",
        "        for key, value in flavors.items():\n",
        "            file.write(f\"{key}: {value}\")\n",
        "        file.write(\"\\n\")"
      ],
      "metadata": {
        "id": "FhHMsxEQtyvR"
      },
      "execution_count": null,
      "outputs": []
    },
    {
      "cell_type": "markdown",
      "source": [
        "\n",
        "```\n",
        "****Check if City name Ends with Vowels****\n",
        "SELECT DISTINCT CITY FROM STATION\n",
        "WHERE RIGHT(CITY, 1) IN ('a', 'e', 'i', 'o', 'u');\n",
        "\n",
        "****Check if City name starts with Vowels****\n",
        "\n",
        "SELECT DISTINCT CITY FROM STATION\n",
        "WHERE CITY REGEXP '^[AEIOU]';\n",
        "\n",
        "Pattern\tMeaning\n",
        "'A%'\tStarts with 'A' (e.g., Apple, Air, Atlanta)\n",
        "'%A'\tEnds with 'A' (e.g., India, Nevada, Pizza)\n",
        "'%A%'\tContains 'A' anywhere (e.g., Canada, Alaska, Madrid)\n",
        "'A%A'\tStarts and ends with 'A' (e.g., Alaska, Amla)\n",
        "\n",
        "For Both:\n",
        "SELECT DISTINCT CITY FROM STATION WHERE LEFT(CITY, 1) IN ('a', 'e', 'i', 'o', 'u') AND RIGHT(CITY, 1) IN ('a', 'e', 'i', 'o', 'u');\n",
        "\n",
        "```\n",
        "\n"
      ],
      "metadata": {
        "id": "DGTSZe-LxelH"
      }
    },
    {
      "cell_type": "code",
      "source": [
        "class Solution(object):\n",
        "    def isValid(self, s):\n",
        "        \"\"\"\n",
        "        :type s: str\n",
        "        :rtype: bool\n",
        "        Valid Paranthesis\n",
        "        \"\"\"\n",
        "        stack = []\n",
        "        brackets = {')' : '(', '}': '{', ']': '['}\n",
        "\n",
        "        for char in s:\n",
        "            if char in brackets.values():\n",
        "                stack.append(char)\n",
        "            elif char in brackets:\n",
        "                if not stack or stack.pop() != brackets[char]:\n",
        "                    return False\n",
        "        return len(stack) == 0"
      ],
      "metadata": {
        "id": "SEwfyRdOzJuO"
      },
      "execution_count": null,
      "outputs": []
    },
    {
      "cell_type": "code",
      "source": [
        "#Steps to Reverse a Number (Mathematically) Valid Palindrome\n",
        "#Extract the last digit → digit = x % 10\n",
        "#Add it to the reversed number → rev = rev * 10 + digit\n",
        "#Remove the last digit from x → x = x // 10\n",
        "#Repeat until x becomes 0\n",
        "        n=x\n",
        "        rev=0\n",
        "        while(x>0):\n",
        "            digit = x%10\n",
        "            rev=rev*10+digit\n",
        "            x=x/10\n",
        "        if(n==rev):\n",
        "            return True\n",
        "        else:\n",
        "            return False"
      ],
      "metadata": {
        "id": "9zxUBFr3VoKo"
      },
      "execution_count": null,
      "outputs": []
    },
    {
      "cell_type": "code",
      "source": [
        "class Solution(object):\n",
        "    def isPalindrome(self, s):\n",
        "        \"\"\"\n",
        "        :type s: str\n",
        "        :rtype: bool\n",
        "        \"\"\"\n",
        "        rev = ''.join(reversed(s)) #To Reversed String rev.reverse() used only in List\n",
        "        rev = ''.join(char.lower() for char in rev if char.isalnum()) # To remove all the non-Alphanumeric char\n",
        "        s = ''.join(char.lower() for char in s if char.isalnum())\n",
        "        if(s==rev):\n",
        "            return True\n",
        "        else:\n",
        "            return False"
      ],
      "metadata": {
        "id": "xMR1x-BfaO96"
      },
      "execution_count": null,
      "outputs": []
    },
    {
      "cell_type": "code",
      "source": [
        "def isPalindrome(self, s):\n",
        "        \"\"\"\n",
        "        :type s: str\n",
        "        :rtype: bool\n",
        "      Start with two pointers: left at the start, right at the end.\n",
        "\n",
        "      Skip anything that’s not a letter or digit.\n",
        "\n",
        "      Compare characters after converting to lowercase.\n",
        "\n",
        "      If at any point they don't match → ❌ Not a palindrome.\n",
        "\n",
        "      If all match till the middle → ✅ It's a palindrome.\n",
        "        \"\"\"\n",
        "        left, right = 0, len(s)-1\n",
        "\n",
        "        while left < right:\n",
        "            while left < right and not s[left].isalnum():\n",
        "                left += 1\n",
        "\n",
        "            while left < right and not s[right].isalnum():\n",
        "                right -= 1\n",
        "\n",
        "            if s[left].lower() != s[right].lower():\n",
        "                return False\n",
        "\n",
        "            left += 1\n",
        "            right -= 1\n",
        "\n",
        "        return True"
      ],
      "metadata": {
        "id": "QaKa8rNze3KF"
      },
      "execution_count": null,
      "outputs": []
    },
    {
      "cell_type": "code",
      "source": [
        "#Linked List\n",
        "class Node:\n",
        "  def __init__(self, data):\n",
        "    self.data = data\n",
        "    self.next = None\n",
        "\n",
        "node1 = Node(10)\n",
        "node2 = Node(20)\n",
        "node3 = Node(30)\n",
        "\n",
        "node1.next = node2\n",
        "node2.next = node3\n",
        "\n",
        "current = node1\n",
        "\n",
        "while current is not None:\n",
        "  print(current.data, end=\"=>\")\n",
        "  current = current.next\n",
        "\n",
        "print(\"End\")"
      ],
      "metadata": {
        "colab": {
          "base_uri": "https://localhost:8080/"
        },
        "id": "FZK3XbOeoM0Z",
        "outputId": "4a07e68d-4041-4174-c5ac-fa20f607416b"
      },
      "execution_count": null,
      "outputs": [
        {
          "output_type": "stream",
          "name": "stdout",
          "text": [
            "10=>20=>30=>End\n"
          ]
        }
      ]
    },
    {
      "cell_type": "code",
      "source": [
        "Day 6 it is:\n",
        "# Definition for singly-linked list.\n",
        "# class ListNode(object):\n",
        "#     def __init__(self, val=0, next=None):\n",
        "#         self.val = val\n",
        "#         self.next = next\n",
        "class Solution(object):\n",
        "    def mergeTwoLists(self, list1, list2):\n",
        "        \"\"\"\n",
        "        :type list1: Optional[ListNode]\n",
        "        :type list2: Optional[ListNode]\n",
        "        :rtype: Optional[ListNode]\n",
        "        \"\"\"\n",
        "        solution = ListNode() # Solution.next = None\n",
        "        current = solution # Current.next is also None(-1)\n",
        "\n",
        "        while list1 and list2:\n",
        "            if list1.val < list2.val:\n",
        "                current.next = list1 #List creation from None(-1) -> List1 -> List2\n",
        "                list1 = list1.next\n",
        "            else:\n",
        "                current.next = list2\n",
        "                list2 = list2.next\n",
        "            current = current.next\n",
        "\n",
        "        if list1:\n",
        "            current.next = list1\n",
        "        elif list2:\n",
        "            current.next = list2\n",
        "\n",
        "        return solution.next #it will return value after none like eliminate -1 and give us new list merged one\n",
        "\n",
        "\n"
      ],
      "metadata": {
        "id": "7-Tn0bKA5OIS"
      },
      "execution_count": null,
      "outputs": []
    },
    {
      "cell_type": "markdown",
      "source": [
        "\n",
        "\n",
        "```\n",
        "Prev = None, kyunki last node ka next to nothing hota hai na 😅\n",
        "\n",
        "Current = Head, yaani 1\n",
        "\n",
        "Loop chalu:\n",
        "\n",
        "Pehla step:\n",
        "\n",
        "new_node = current.next → yaani 2\n",
        "\n",
        "current.next = prev → 1 ka next ab None (ulta kar diya)\n",
        "\n",
        "prev = current → prev ab 1 ho gaya\n",
        "\n",
        "current = new_node → current ab 2 pe\n",
        "\n",
        "Dusra step:\n",
        "\n",
        "2 ka next ab 1, prev = 2, current = 3\n",
        "\n",
        "Aise aise sab ulta karte karte ho jaayega: None <- 1 <- 2 <- 3 <- 4\n",
        "\n",
        "Final Return → prev (jo ab 4 hai — new head!)\n",
        "```\n",
        "\n"
      ],
      "metadata": {
        "id": "FEatASiDDK8I"
      }
    },
    {
      "cell_type": "code",
      "source": [
        "prev = None\n",
        "current = head\n",
        "\n",
        "while current:\n",
        "  new_node = current.next\n",
        "  current.next = prev\n",
        "  prev = current\n",
        "  current = new_node\n",
        "\n",
        "  return prev"
      ],
      "metadata": {
        "id": "JE5sBOqXCTzi"
      },
      "execution_count": null,
      "outputs": []
    },
    {
      "cell_type": "code",
      "source": [
        "# Definition for singly-linked list.\n",
        "# class ListNode(object):\n",
        "#     def __init__(self, val=0, next=None):\n",
        "#         self.val = val\n",
        "#         self.next = next\n",
        "\n",
        "#MIDDLE OF THE LINKED LIST - RETURN LIST FROM THE MIDDLE\n",
        "\n",
        "class Solution(object):\n",
        "    def middleNode(self, head):\n",
        "        \"\"\"\n",
        "        :type head: Optional[ListNode]\n",
        "        :rtype: Optional[ListNode]\n",
        "        \"\"\"\n",
        "        pointer = 0\n",
        "        current = head\n",
        "        while current:\n",
        "            current = current.next\n",
        "            pointer += 1\n",
        "\n",
        "        pointer = pointer/2 #3\n",
        "        current = head\n",
        "        while pointer>0:\n",
        "            current = current.next\n",
        "            pointer -= 1\n",
        "\n",
        "        return current"
      ],
      "metadata": {
        "id": "W_AP2ZpFTuoQ"
      },
      "execution_count": null,
      "outputs": []
    },
    {
      "cell_type": "code",
      "source": [
        "#Print first non-duplicate string\n",
        "s = \"nnivvesh\"\n",
        "\n",
        "seen = {}\n",
        "\n",
        "for char in s:\n",
        "  if char in seen:\n",
        "    seen[char] += 1\n",
        "  else:\n",
        "    seen[char] = 1\n",
        "\n",
        "for char in s:\n",
        "  if seen[char] == 1:\n",
        "    print(char)\n",
        "    break"
      ],
      "metadata": {
        "colab": {
          "base_uri": "https://localhost:8080/"
        },
        "id": "scIZ7FhAh7rY",
        "outputId": "4ccfc01d-12e9-4b40-8d3a-b1a1dc04b264"
      },
      "execution_count": null,
      "outputs": [
        {
          "output_type": "stream",
          "name": "stdout",
          "text": [
            "i\n"
          ]
        }
      ]
    },
    {
      "cell_type": "code",
      "source": [
        "s = \"abcabcabb\"\n",
        "seen = set()\n",
        "left = 0\n",
        "max_len = 0\n",
        "\n",
        "for right in range(len(s)):\n",
        "  while s[right] in seen:\n",
        "    seen.remove(s[left])\n",
        "    left += 1\n",
        "  seen.add(s[right])\n",
        "  max_len = max(max_len, right - left + 1)\n",
        "\n",
        "print(max_len)"
      ],
      "metadata": {
        "colab": {
          "base_uri": "https://localhost:8080/"
        },
        "id": "n1TQ-KfLvbQY",
        "outputId": "0716b61e-fad8-4af4-a35f-d659cf5e44d2"
      },
      "execution_count": null,
      "outputs": [
        {
          "output_type": "stream",
          "name": "stdout",
          "text": [
            "3\n"
          ]
        }
      ]
    },
    {
      "cell_type": "code",
      "source": [
        "#Longest Consecutive sequence\n",
        "class Solution(object):\n",
        "    def longestConsecutive(self, nums):\n",
        "        \"\"\"\n",
        "        :type nums: List[int]\n",
        "        :rtype: int\n",
        "        \"\"\"\n",
        "        if not nums:\n",
        "            return 0\n",
        "\n",
        "        seen = set(nums)\n",
        "        count = 0\n",
        "        max_len = 0\n",
        "\n",
        "        for num in seen:\n",
        "            if num-1 not in seen:\n",
        "               current = num\n",
        "               count = 1\n",
        "               while current+1 in seen:\n",
        "                current += 1\n",
        "                count += 1\n",
        "            max_len = max(max_len, count)\n",
        "\n",
        "        return max_len\n"
      ],
      "metadata": {
        "id": "nka7Na3NWF4S"
      },
      "execution_count": null,
      "outputs": []
    },
    {
      "cell_type": "code",
      "source": [
        "class Solution(object):\n",
        "    def groupAnagrams(self, strs):\n",
        "        \"\"\"\n",
        "        :type strs: List[str]\n",
        "        :rtype: List[List[str]]\n",
        "        \"\"\"\n",
        "        groups = []\n",
        "\n",
        "        for char in strs:\n",
        "            check = False\n",
        "            for group in groups:\n",
        "                if sorted(group[0]) == sorted(char):\n",
        "                    group.append(char)\n",
        "                    check = True\n",
        "                    break\n",
        "            if not check:\n",
        "                groups.append([char])\n",
        "        return groups"
      ],
      "metadata": {
        "id": "I89wLgYU8gDP"
      },
      "execution_count": null,
      "outputs": []
    },
    {
      "cell_type": "code",
      "source": [
        "import collection as dicts\n",
        "\n",
        "result = dicts(list)\n",
        "\n",
        "for word in strs: #O(N) to run list of words\n",
        "  key = tupple(sorted(word))  #Sorting Words and keep them as key each word of sorted anagram is same.\n",
        "  result[key].append(word) # Storing word in their anagram key in one go O(1)\n",
        "\n",
        "return result.value() #Returning only values from dictionary not keys"
      ],
      "metadata": {
        "id": "i_kxcHBU-yeI"
      },
      "execution_count": null,
      "outputs": []
    },
    {
      "cell_type": "code",
      "source": [
        "def groupAnagrams(strs):\n",
        "    result = {}\n",
        "    for word in strs:\n",
        "        key = tuple(sorted(word))\n",
        "        if key not in result:\n",
        "            result[key] = []\n",
        "        result[key].append(word)\n",
        "    return result.values()\n",
        "#Same as above but using normal dictionary"
      ],
      "metadata": {
        "id": "A-1hLI5tA9HU"
      },
      "execution_count": null,
      "outputs": []
    },
    {
      "cell_type": "code",
      "source": [
        "s = 'world'\n",
        "print(s[::-1])\n",
        "#to print reversed string\n",
        "s.count('w') #Coun\n",
        "t how many 'w' char is there in string"
      ],
      "metadata": {
        "colab": {
          "base_uri": "https://localhost:8080/"
        },
        "id": "G0cQk33J0_wp",
        "outputId": "342f8f51-4832-4466-bc6b-4b88c1ea95b6"
      },
      "execution_count": null,
      "outputs": [
        {
          "output_type": "stream",
          "name": "stdout",
          "text": [
            "dlrow\n"
          ]
        },
        {
          "output_type": "execute_result",
          "data": {
            "text/plain": [
              "1"
            ]
          },
          "metadata": {},
          "execution_count": 2
        }
      ]
    },
    {
      "cell_type": "code",
      "source": [
        "squares = [i * i for i in range(5)]\n",
        "print(squares)"
      ],
      "metadata": {
        "colab": {
          "base_uri": "https://localhost:8080/"
        },
        "id": "-t4a9a5VbIwV",
        "outputId": "c5a60d7d-b128-48d6-8c8c-9e5409e3239b"
      },
      "execution_count": null,
      "outputs": [
        {
          "output_type": "stream",
          "name": "stdout",
          "text": [
            "[0, 1, 4, 9, 16]\n"
          ]
        }
      ]
    },
    {
      "cell_type": "code",
      "source": [
        "squares = [i**2 for i in range(1, 6) if i%2==0 ]\n",
        "print(squares)"
      ],
      "metadata": {
        "id": "fpVTjPRBdM0d"
      },
      "execution_count": null,
      "outputs": []
    },
    {
      "cell_type": "code",
      "source": [
        "result = [(i,j) for i in range(3) for j in range(3) if i != j] # List comprehension"
      ],
      "metadata": {
        "id": "_5o9s436dz0v"
      },
      "execution_count": null,
      "outputs": []
    },
    {
      "cell_type": "code",
      "source": [
        "result = [[i+j for j in range(3)] for i in range(3)]\n",
        "print(result)"
      ],
      "metadata": {
        "colab": {
          "base_uri": "https://localhost:8080/"
        },
        "id": "AakOpH0Vfr2a",
        "outputId": "408d7874-ae43-472d-d12f-c95de15d126f"
      },
      "execution_count": null,
      "outputs": [
        {
          "output_type": "stream",
          "name": "stdout",
          "text": [
            "[[0, 1, 2], [1, 2, 3], [2, 3, 4]]\n"
          ]
        }
      ]
    },
    {
      "cell_type": "code",
      "source": [
        "class pomo:\n",
        "  def __init__(self, duration=25):\n",
        "    self.duration = duration\n",
        "    self.remaining_sec = duration * 60\n",
        "    self.isrunning = False\n",
        "  def start(self):\n",
        "    if not self.isrunning:\n",
        "      self.isrunning = True\n",
        "      print(\"Started\")\n",
        "    else:\n",
        "      print(\"Already Running\")\n",
        "\n",
        "  def reset(self):\n",
        "    remaining_sec = self.duration * 60\n",
        "    self.isrunning = False\n",
        "    print(\"Reset\")\n",
        "\n",
        "\n",
        "timers = pomo()\n",
        "timers.start()\n",
        "timers.reset()"
      ],
      "metadata": {
        "colab": {
          "base_uri": "https://localhost:8080/"
        },
        "id": "iCvz2GEO4pLV",
        "outputId": "4fdc9a29-9b96-4e7d-ec62-713935d93ccb"
      },
      "execution_count": null,
      "outputs": [
        {
          "output_type": "stream",
          "name": "stdout",
          "text": [
            "Started\n",
            "Reset\n"
          ]
        }
      ]
    },
    {
      "cell_type": "code",
      "source": [
        "class pomo():\n",
        "  def __init__(self, duration=25):\n",
        "    self.duration = duration\n",
        "    self.remaining_sec = duration * 60\n",
        "    self.isrunning = False\n",
        "    self.session = 0\n",
        "  def start(self):\n",
        "    if not self.isrunning:\n",
        "      self.isrunning = True\n",
        "      print(\"Started\")\n",
        "    else:\n",
        "      print(\"Already Running\")\n",
        "  def reset(self):\n",
        "    self.remaining_sec = self.duration * 60\n",
        "    self.isrunning = False\n",
        "    print(\"Reset\")\n",
        "  def session_in(self):\n",
        "    self.session += 1\n",
        "    print(f\"You have completed Session {self.session}\")\n",
        "    if self.session == 4:\n",
        "      print(\"Please Take a break\")\n",
        "\n",
        "timers = pomo()\n",
        "timers.start()\n",
        "timers.reset()\n",
        "timers.session_in()"
      ],
      "metadata": {
        "colab": {
          "base_uri": "https://localhost:8080/"
        },
        "id": "GW6Vz1VRAzIZ",
        "outputId": "0434240b-5237-4009-c1b2-cef9c69709fa"
      },
      "execution_count": null,
      "outputs": [
        {
          "output_type": "stream",
          "name": "stdout",
          "text": [
            "Started\n",
            "Reset\n",
            "You have completed Session 4\n",
            "Please Take a break\n"
          ]
        }
      ]
    },
    {
      "cell_type": "code",
      "source": [
        "def find_pairs(nums):\n",
        "  result = set()\n",
        "  for num in nums:\n",
        "    if num in result:\n",
        "      return True\n",
        "    result.add(num)\n",
        "\n",
        "  return False\n",
        "\n",
        "nums = [1, 2, 3, 1]\n",
        "find_pairs(nums)"
      ],
      "metadata": {
        "colab": {
          "base_uri": "https://localhost:8080/"
        },
        "id": "ii1o8UKdDBu9",
        "outputId": "8866723c-0a5f-49ab-a6e3-0135d4b0d737"
      },
      "execution_count": null,
      "outputs": [
        {
          "output_type": "execute_result",
          "data": {
            "text/plain": [
              "True"
            ]
          },
          "metadata": {},
          "execution_count": 6
        }
      ]
    },
    {
      "cell_type": "code",
      "source": [
        "def return_dup(nums):\n",
        "  dupli = {}\n",
        "  result = []\n",
        "  for num in nums:\n",
        "    if num in dupli:\n",
        "      dupli[num] += 1\n",
        "    else:\n",
        "      dupli[num] = 1\n",
        "\n",
        "  for key in dupli:\n",
        "    if dupli[key] > 1:\n",
        "      result.append(key)\n",
        "  return result\n",
        "\n",
        "nums = [1, 3, 2, 1, 4, 4]\n",
        "print(return_dup(nums))"
      ],
      "metadata": {
        "colab": {
          "base_uri": "https://localhost:8080/"
        },
        "id": "cuAoCGwqEPKP",
        "outputId": "a03b1fad-e6a2-40bb-a72a-3f5a16376760"
      },
      "execution_count": null,
      "outputs": [
        {
          "output_type": "stream",
          "name": "stdout",
          "text": [
            "[1, 4]\n"
          ]
        }
      ]
    },
    {
      "cell_type": "code",
      "source": [
        "def sumof_total(*nums):\n",
        "  total = 0\n",
        "  count = 0\n",
        "  for num in nums:\n",
        "    total += num\n",
        "    count += 1\n",
        "  return total, total/count\n",
        "\n",
        "\n",
        "sumof_total(1, 2, 3, 4, 5)"
      ],
      "metadata": {
        "colab": {
          "base_uri": "https://localhost:8080/"
        },
        "id": "XqEcDe2zHW-K",
        "outputId": "f8903582-909e-4902-8db5-194526910a58"
      },
      "execution_count": null,
      "outputs": [
        {
          "output_type": "execute_result",
          "data": {
            "text/plain": [
              "(15, 3.0)"
            ]
          },
          "metadata": {},
          "execution_count": 13
        }
      ]
    },
    {
      "cell_type": "code",
      "source": [
        "def sumof_total(*nums, **options):\n",
        "    total = sum(nums)\n",
        "    avg = total / len(nums)\n",
        "\n",
        "    if options.get(\"round\", False):\n",
        "        avg = round(avg, 2)\n",
        "\n",
        "    if options.get(\"print_summary\", False):\n",
        "        print(f\"Total: {total}, Average: {avg}\")\n",
        "\n",
        "    return total, avg\n",
        "sumof_total(1, 2, 3, 4, 5, round=True, print_summary=True)"
      ],
      "metadata": {
        "id": "kLrnIcVDKpbO",
        "outputId": "51dd1a1d-2789-4a0d-db37-d6bf93f47950",
        "colab": {
          "base_uri": "https://localhost:8080/"
        }
      },
      "execution_count": null,
      "outputs": [
        {
          "output_type": "stream",
          "name": "stdout",
          "text": [
            "Total: 15, Average: 3.0\n"
          ]
        },
        {
          "output_type": "execute_result",
          "data": {
            "text/plain": [
              "(15, 3.0)"
            ]
          },
          "metadata": {},
          "execution_count": 14
        }
      ]
    }
  ]
}